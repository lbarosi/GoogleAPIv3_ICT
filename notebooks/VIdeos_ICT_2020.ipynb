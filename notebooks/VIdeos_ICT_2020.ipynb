{
 "cells": [
  {
   "cell_type": "markdown",
   "metadata": {},
   "source": [
    "# Organização de Vídeos ICT 2019-2020"
   ]
  },
  {
   "cell_type": "markdown",
   "metadata": {},
   "source": [
    "## Inicialização"
   ]
  },
  {
   "cell_type": "code",
   "execution_count": 1,
   "metadata": {
    "ExecuteTime": {
     "end_time": "2021-01-03T21:45:43.872629Z",
     "start_time": "2021-01-03T21:45:43.859170Z"
    }
   },
   "outputs": [],
   "source": [
    "# Incluindo diretório scripts no caminho\n",
    "from glob import glob\n",
    "import sys\n",
    "import os\n",
    "sys.path.insert(0, './DATA/')"
   ]
  },
  {
   "cell_type": "code",
   "execution_count": 2,
   "metadata": {
    "ExecuteTime": {
     "end_time": "2021-01-03T21:45:44.036790Z",
     "start_time": "2021-01-03T21:45:44.034015Z"
    }
   },
   "outputs": [],
   "source": [
    "# show result from all calculations of the cell\n",
    "from IPython.core.interactiveshell import InteractiveShell\n",
    "InteractiveShell.ast_node_interactivity = \"all\""
   ]
  },
  {
   "cell_type": "code",
   "execution_count": 3,
   "metadata": {
    "ExecuteTime": {
     "end_time": "2021-01-03T21:45:45.109591Z",
     "start_time": "2021-01-03T21:45:44.193004Z"
    }
   },
   "outputs": [],
   "source": [
    "# pacotes básicos\n",
    "import numpy as np\n",
    "from scipy import stats\n",
    "import matplotlib.pyplot as plt\n",
    "import pandas as pd\n",
    "pd.set_option('max_colwidth',250)\n",
    "import unidecode\n",
    "import re"
   ]
  },
  {
   "cell_type": "markdown",
   "metadata": {},
   "source": [
    "## Carregando dados"
   ]
  },
  {
   "cell_type": "code",
   "execution_count": 58,
   "metadata": {
    "ExecuteTime": {
     "end_time": "2021-01-03T21:45:45.122207Z",
     "start_time": "2021-01-03T21:45:45.111761Z"
    }
   },
   "outputs": [],
   "source": [
    "colunas = ['ID', 'Título do Projeto', 'Docente', 'Centro', 'Unidade', \n",
    "           'Área Conhecimento', 'Aluno', 'CPF Aluno', 'Cota Bolsa','TIPO']"
   ]
  },
  {
   "cell_type": "code",
   "execution_count": 59,
   "metadata": {
    "ExecuteTime": {
     "end_time": "2021-01-03T21:45:45.830365Z",
     "start_time": "2021-01-03T21:45:45.386620Z"
    }
   },
   "outputs": [],
   "source": [
    "servidores = pd.read_excel('./DATA/UFCG_Servidores_Ativos.xls', converters={'CPF':str})\n",
    "servidores = servidores[['CPF','Nome']]\n",
    "\n",
    "\n",
    "formularios = pd.read_csv('./DATA/Formulário_ICT_VIDEOS.csv', converters={'CPF_ALUNO':str, 'CPF_ORIENTADOR':str})\n",
    "formularios = formularios.dropna(axis=1, how='any')\n",
    "formularios['CPF_ORIENTADOR'] = formularios['CPF_ORIENTADOR'].apply(\n",
    "    lambda row: re.sub(r\"\\D\", \"\", row))\n",
    "formularios['CPF_ALUNO'] = formularios['CPF_ALUNO'].apply(\n",
    "    lambda row: re.sub(r\"\\D\", \"\", row))\n",
    "formularios['TIMESTAMP'] = pd.to_datetime(formularios['TIMESTAMP'])\n",
    "\n",
    "PIBIC = pd.read_excel('./DATA/PIBIC-2019.xls', converters={'CPF Aluno':str})\n",
    "PIVIC = pd.read_excel('./DATA/PIVIC-2019.xls', converters={'CPF Aluno':str})\n",
    "PIVIC_1 = pd.read_excel('./DATA/PIVIC-2019-1.xls', converters={'CPF Aluno':str})\n",
    "PIBITI = pd.read_excel('./DATA/PIBITI-2019.xls', converters={'CPF Aluno':str})\n",
    "PIVITI = pd.read_excel('./DATA/PIVITI-2019.xls', converters={'CPF Aluno':str})\n",
    "\n",
    "PIBIC['TIPO'] = 'PIBIC' \n",
    "PIVIC['TIPO'] = 'PIVIC' \n",
    "PIVIC_1['TIPO'] = 'PIVIC' \n",
    "PIBITI['TIPO'] = 'PIBITI' \n",
    "PIVITI['TIPO'] = 'PIVITI' \n",
    "\n",
    "projetos = pd.concat([PIBIC,PIVIC,PIVIC_1, PIBITI, PIVITI])\n",
    "projetos = projetos[colunas]\n",
    "projetos = projetos.rename(columns={'Título do Projeto':'TITULO',\n",
    "                                    'Docente':'DOCENTE',\n",
    "                                    'Centro':'CENTRO',\n",
    "                                    'Unidade':'UA',\n",
    "                                    'Área Conhecimento':'AREA',\n",
    "                                    'Aluno':'ALUNO',\n",
    "                                    'CPF Aluno':'CPF_ALUNO',\n",
    "                                    'Cota Bolsa':'BOLSA'})\n",
    "projetos.CPF_ALUNO = projetos.CPF_ALUNO.astype(str)\n",
    "projetos['DOCENTE'] = projetos['DOCENTE'].apply(\n",
    "    lambda row: unidecode.unidecode(row))\n",
    "\n",
    "dados_projetos = pd.merge(\n",
    "    left=projetos, right=servidores,\n",
    "    left_on='DOCENTE', right_on='Nome').drop('Nome',1)\n",
    "\n",
    "dados_videos = pd.merge(\n",
    "    left=dados_projetos, right=formularios,\n",
    "    left_on='CPF_ALUNO', right_on='CPF_ALUNO')\n",
    "\n",
    "videos = dados_videos[\n",
    "    dados_videos['CPF_ORIENTADOR'] == dados_videos['CPF']\n",
    "]\n",
    "#Eliminando Duplicatas e ficando com a versão mais recente.\n",
    "videos_validos = videos.sort_values('TIMESTAMP').drop_duplicates('CPF_ALUNO',keep='last')\n",
    "\n",
    "#videos_validos['LINK_VIDEO']=videos_validos.apply(lambda row: row['LINK_VIDEO'].split['='][-1])\n",
    "\n",
    "\n",
    "videos_validos['title'] = videos_validos.apply(lambda row: \n",
    "                     'ICT-2020-' + row['AREA'] + '-' + '-' + row['CENTRO'] +\n",
    "                     '-' + row['UA'] + ':  ' + \n",
    "                     str(row['TITULO'])[0 : min(len(str(row['TITULO'])),30)] + '...',\n",
    "                     axis = 1\n",
    "                    )\n",
    "\n",
    "videos_validos['description'] = 'Videos para avaliação dos projetos de Iniciação Científica e Tecnológica, vigência 2019 - 2020, da Universidade Federal de Campina Grande. Provisoriamente armazenados nesta canal por problemas técnicos.'\n",
    "\n",
    "videos_validos['category'] = '27'\n",
    "\n",
    "videos_validos['keywords'] = videos_validos.apply(lambda row: \n",
    "                     'UFCG,PRPG,PIBIC,PIBITI,' + row['AREA'] +',' + row['CENTRO'],\n",
    "                     axis = 1\n",
    "                    )\n",
    "\n",
    "videos_validos['categorias'] = videos_validos.apply(lambda row: row['CENTRO']+'-'+row['UA'], axis = 1)"
   ]
  },
  {
   "cell_type": "code",
   "execution_count": 60,
   "metadata": {},
   "outputs": [
    {
     "data": {
      "text/plain": [
       "'UAMV'"
      ]
     },
     "execution_count": 60,
     "metadata": {},
     "output_type": "execute_result"
    }
   ],
   "source": [
    "videos_validos.head(1)['UA'].iloc[0]"
   ]
  },
  {
   "cell_type": "markdown",
   "metadata": {},
   "source": [
    "## Criando Listas"
   ]
  },
  {
   "cell_type": "code",
   "execution_count": 61,
   "metadata": {},
   "outputs": [],
   "source": [
    "listas = ['CENTRO','UA','AREA']\n",
    "categorias = [videos_validos[el].unique().tolist() for el in listas]\n",
    "playlists = [ videos_validos[ videos_validos[el] == categ ]['ID'] \n",
    " for el in listas for categ in categorias[listas.index(el)] ]\n"
   ]
  },
  {
   "cell_type": "code",
   "execution_count": 62,
   "metadata": {},
   "outputs": [],
   "source": [
    "column_names = ['TIPO', 'CRITERIO', 'DADOS']\n",
    "df = pd.DataFrame(columns = column_names)\n",
    "POS = 0\n",
    "for item in listas:\n",
    "    for item2 in categorias[listas.index(item)]:\n",
    "        df.loc[len(df)] = [item, item2, videos_validos[videos_validos.index.isin(playlists[POS].index)]]\n",
    "        POS += 1        "
   ]
  },
  {
   "cell_type": "markdown",
   "metadata": {},
   "source": [
    "## Teste"
   ]
  },
  {
   "cell_type": "code",
   "execution_count": 75,
   "metadata": {},
   "outputs": [
    {
     "data": {
      "text/plain": [
       "['https://drive.google.com/u/0/open?usp=forms_web&id=1MPdpQtkQX7DSimBzgYYpSEm02ngODSQI',\n",
       " 'https://drive.google.com/u/0/open?usp=forms_web&id=1Ehg__XJTKFx3MP9rnYadSvfo05qz-OtF',\n",
       " 'https://drive.google.com/u/0/open?usp=forms_web&id=1H9mUF4I0NId4wyEefxXTMhUD3l9yRHdk']"
      ]
     },
     "execution_count": 75,
     "metadata": {},
     "output_type": "execute_result"
    }
   ],
   "source": [
    "df1 = df[df['TIPO']=='UA']\n",
    "df1[df1['CRITERIO']=='UAF'].iloc[0,2]['LINK_VIDEO'].to_list()"
   ]
  },
  {
   "cell_type": "code",
   "execution_count": 66,
   "metadata": {},
   "outputs": [
    {
     "data": {
      "text/plain": [
       "Index(['ID', 'TITULO', 'DOCENTE', 'CENTRO', 'UA', 'AREA', 'ALUNO', 'CPF_ALUNO',\n",
       "       'BOLSA', 'TIPO', 'CPF', 'TIMESTAMP', 'EMAIL', 'NOME', 'CPF_ORIENTADOR',\n",
       "       'LINK_VIDEO', 'title', 'description', 'category', 'keywords'],\n",
       "      dtype='object')"
      ]
     },
     "execution_count": 66,
     "metadata": {},
     "output_type": "execute_result"
    }
   ],
   "source": [
    "uamv.columns"
   ]
  },
  {
   "cell_type": "code",
   "execution_count": 67,
   "metadata": {},
   "outputs": [],
   "source": [
    "uamv = uamv[uamv['ID']==7733]"
   ]
  },
  {
   "cell_type": "code",
   "execution_count": 75,
   "metadata": {},
   "outputs": [
    {
     "data": {
      "text/plain": [
       "'16ubBh2OqK_dVFdRQf0rWw_49WMq2KxZp'"
      ]
     },
     "execution_count": 75,
     "metadata": {},
     "output_type": "execute_result"
    }
   ],
   "source": [
    "uamv.values[0,-5].split('=')[-1]"
   ]
  },
  {
   "cell_type": "code",
   "execution_count": 25,
   "metadata": {},
   "outputs": [
    {
     "ename": "NameError",
     "evalue": "name 'b' is not defined",
     "output_type": "error",
     "traceback": [
      "\u001b[0;31m---------------------------------------------------------------------------\u001b[0m",
      "\u001b[0;31mNameError\u001b[0m                                 Traceback (most recent call last)",
      "\u001b[0;32m<ipython-input-25-2953cf919041>\u001b[0m in \u001b[0;36m<module>\u001b[0;34m\u001b[0m\n\u001b[1;32m      1\u001b[0m \u001b[0ma\u001b[0m \u001b[0;34m=\u001b[0m \u001b[0;36m1\u001b[0m\u001b[0;34m\u001b[0m\u001b[0;34m\u001b[0m\u001b[0m\n\u001b[0;32m----> 2\u001b[0;31m \u001b[0ma\u001b[0m \u001b[0;34m=\u001b[0m \u001b[0mb\u001b[0m\u001b[0;34m\u001b[0m\u001b[0;34m\u001b[0m\u001b[0m\n\u001b[0m",
      "\u001b[0;31mNameError\u001b[0m: name 'b' is not defined"
     ]
    }
   ],
   "source": [
    "a = 1\n",
    "a = b"
   ]
  },
  {
   "cell_type": "code",
   "execution_count": 7,
   "metadata": {},
   "outputs": [
    {
     "data": {
      "text/plain": [
       "array(['UFCG-CSTR-UAMV', 'ERROR'], dtype='<U14')"
      ]
     },
     "execution_count": 7,
     "metadata": {},
     "output_type": "execute_result"
    }
   ],
   "source": [
    "np.array(created_playlists).T"
   ]
  },
  {
   "cell_type": "code",
   "execution_count": 21,
   "metadata": {},
   "outputs": [],
   "source": [
    "created_playlists = [['UFCG-CSTR-UAMV','ERROR']]\n",
    "df = pd.DataFrame(created_playlists, columns=['playlist_title','playlist_id'])"
   ]
  },
  {
   "cell_type": "code",
   "execution_count": 22,
   "metadata": {},
   "outputs": [
    {
     "data": {
      "text/html": [
       "<div>\n",
       "<style scoped>\n",
       "    .dataframe tbody tr th:only-of-type {\n",
       "        vertical-align: middle;\n",
       "    }\n",
       "\n",
       "    .dataframe tbody tr th {\n",
       "        vertical-align: top;\n",
       "    }\n",
       "\n",
       "    .dataframe thead th {\n",
       "        text-align: right;\n",
       "    }\n",
       "</style>\n",
       "<table border=\"1\" class=\"dataframe\">\n",
       "  <thead>\n",
       "    <tr style=\"text-align: right;\">\n",
       "      <th></th>\n",
       "      <th>playlist_title</th>\n",
       "      <th>playlist_id</th>\n",
       "    </tr>\n",
       "  </thead>\n",
       "  <tbody>\n",
       "    <tr>\n",
       "      <th>0</th>\n",
       "      <td>UFCG-CSTR-UAMV</td>\n",
       "      <td>ERROR</td>\n",
       "    </tr>\n",
       "  </tbody>\n",
       "</table>\n",
       "</div>"
      ],
      "text/plain": [
       "   playlist_title playlist_id\n",
       "0  UFCG-CSTR-UAMV       ERROR"
      ]
     },
     "execution_count": 22,
     "metadata": {},
     "output_type": "execute_result"
    }
   ],
   "source": [
    "df"
   ]
  },
  {
   "cell_type": "code",
   "execution_count": 18,
   "metadata": {},
   "outputs": [],
   "source": [
    "lista = []\n",
    "lista.append(created_playlists)\n"
   ]
  },
  {
   "cell_type": "code",
   "execution_count": 28,
   "metadata": {},
   "outputs": [],
   "source": [
    "import videolist as vd\n",
    "from argparse import Namespace\n",
    "videos_validos = vd.do_list()"
   ]
  },
  {
   "cell_type": "code",
   "execution_count": 29,
   "metadata": {},
   "outputs": [
    {
     "data": {
      "text/html": [
       "<div>\n",
       "<style scoped>\n",
       "    .dataframe tbody tr th:only-of-type {\n",
       "        vertical-align: middle;\n",
       "    }\n",
       "\n",
       "    .dataframe tbody tr th {\n",
       "        vertical-align: top;\n",
       "    }\n",
       "\n",
       "    .dataframe thead th {\n",
       "        text-align: right;\n",
       "    }\n",
       "</style>\n",
       "<table border=\"1\" class=\"dataframe\">\n",
       "  <thead>\n",
       "    <tr style=\"text-align: right;\">\n",
       "      <th></th>\n",
       "      <th>ID</th>\n",
       "      <th>TITULO</th>\n",
       "      <th>DOCENTE</th>\n",
       "      <th>CENTRO</th>\n",
       "      <th>UA</th>\n",
       "      <th>AREA</th>\n",
       "      <th>ALUNO</th>\n",
       "      <th>CPF_ALUNO</th>\n",
       "      <th>BOLSA</th>\n",
       "      <th>TIPO</th>\n",
       "      <th>CPF</th>\n",
       "      <th>TIMESTAMP</th>\n",
       "      <th>EMAIL</th>\n",
       "      <th>NOME</th>\n",
       "      <th>CPF_ORIENTADOR</th>\n",
       "      <th>LINK_VIDEO</th>\n",
       "      <th>title</th>\n",
       "      <th>description</th>\n",
       "      <th>category</th>\n",
       "      <th>keywords</th>\n",
       "    </tr>\n",
       "  </thead>\n",
       "  <tbody>\n",
       "    <tr>\n",
       "      <th>46</th>\n",
       "      <td>7733</td>\n",
       "      <td>CONSUMO, DIGESTIBILIDADE E COMPORTAMENTO INGESTIVO DE CORDEIROS ALIMENTADOS COM DIETAS CONTENDO LÍQUIDO DA CASCA DA CASTANHA DE CAJU (LCC).</td>\n",
       "      <td>LEILSON ROCHA BEZERRA</td>\n",
       "      <td>CSTR</td>\n",
       "      <td>UAMV</td>\n",
       "      <td>ZOOTECNIA</td>\n",
       "      <td>GIOVANA DINIZ LIMA</td>\n",
       "      <td>12169144439</td>\n",
       "      <td>NaN</td>\n",
       "      <td>PIVIC</td>\n",
       "      <td>66045967372</td>\n",
       "      <td>2020-12-21 12:12:12+03:00</td>\n",
       "      <td>giovanadiniz13@gmail.com</td>\n",
       "      <td>Giovana Diniz Lima</td>\n",
       "      <td>66045967372</td>\n",
       "      <td>16ubBh2OqK_dVFdRQf0rWw_49WMq2KxZp</td>\n",
       "      <td>ICT-2020--PIVIC-ZOOTECNIA--CSTR-UAMV:  CONSUMO, DIGESTIBILIDADE E COM...</td>\n",
       "      <td>Videos para avaliação dos projetos de Iniciação Científica e Tecnológica, vigência 2019 - 2020, da Universidade Federal de Campina Grande. Provisoriamente armazenados nesta canal por problemas técnicos.</td>\n",
       "      <td>27</td>\n",
       "      <td>UFCG,PRPG,PIBIC,PIBITI,ZOOTECNIA,CSTR</td>\n",
       "    </tr>\n",
       "    <tr>\n",
       "      <th>213</th>\n",
       "      <td>7553</td>\n",
       "      <td>VIOLAÇÃO DA INVARIÂNCIA DE LORENTZ: DESENVOLVIMENTOS TEÓRICOS E LIMITES FENOMENOLÓGICOS</td>\n",
       "      <td>EDUARDO MARCOS RODRIGUES DOS PASSOS</td>\n",
       "      <td>CCT</td>\n",
       "      <td>UAF</td>\n",
       "      <td>FÍSICA</td>\n",
       "      <td>CARLOS MIGUEL NÓBREGA DE MEDEIROS</td>\n",
       "      <td>12316973426</td>\n",
       "      <td>NaN</td>\n",
       "      <td>PIVIC</td>\n",
       "      <td>44078927220</td>\n",
       "      <td>2020-12-21 13:56:05+03:00</td>\n",
       "      <td>carlos.miguel@estudante.ufcg.edu.br</td>\n",
       "      <td>Carlos Miguel Nóbrega de Medeiros</td>\n",
       "      <td>44078927220</td>\n",
       "      <td>1MPdpQtkQX7DSimBzgYYpSEm02ngODSQI</td>\n",
       "      <td>ICT-2020--PIVIC-FÍSICA--CCT-UAF:  VIOLAÇÃO DA INVARIÂNCIA DE LOR...</td>\n",
       "      <td>Videos para avaliação dos projetos de Iniciação Científica e Tecnológica, vigência 2019 - 2020, da Universidade Federal de Campina Grande. Provisoriamente armazenados nesta canal por problemas técnicos.</td>\n",
       "      <td>27</td>\n",
       "      <td>UFCG,PRPG,PIBIC,PIBITI,FÍSICA,CCT</td>\n",
       "    </tr>\n",
       "  </tbody>\n",
       "</table>\n",
       "</div>"
      ],
      "text/plain": [
       "       ID  \\\n",
       "46   7733   \n",
       "213  7553   \n",
       "\n",
       "                                                                                                                                          TITULO  \\\n",
       "46   CONSUMO, DIGESTIBILIDADE E COMPORTAMENTO INGESTIVO DE CORDEIROS ALIMENTADOS COM DIETAS CONTENDO LÍQUIDO DA CASCA DA CASTANHA DE CAJU (LCC).   \n",
       "213                                                      VIOLAÇÃO DA INVARIÂNCIA DE LORENTZ: DESENVOLVIMENTOS TEÓRICOS E LIMITES FENOMENOLÓGICOS   \n",
       "\n",
       "                                 DOCENTE CENTRO    UA       AREA  \\\n",
       "46                 LEILSON ROCHA BEZERRA   CSTR  UAMV  ZOOTECNIA   \n",
       "213  EDUARDO MARCOS RODRIGUES DOS PASSOS    CCT   UAF     FÍSICA   \n",
       "\n",
       "                                 ALUNO    CPF_ALUNO BOLSA   TIPO          CPF  \\\n",
       "46                  GIOVANA DINIZ LIMA  12169144439   NaN  PIVIC  66045967372   \n",
       "213  CARLOS MIGUEL NÓBREGA DE MEDEIROS  12316973426   NaN  PIVIC  44078927220   \n",
       "\n",
       "                    TIMESTAMP                                EMAIL  \\\n",
       "46  2020-12-21 12:12:12+03:00             giovanadiniz13@gmail.com   \n",
       "213 2020-12-21 13:56:05+03:00  carlos.miguel@estudante.ufcg.edu.br   \n",
       "\n",
       "                                  NOME CPF_ORIENTADOR  \\\n",
       "46                  Giovana Diniz Lima    66045967372   \n",
       "213  Carlos Miguel Nóbrega de Medeiros    44078927220   \n",
       "\n",
       "                            LINK_VIDEO  \\\n",
       "46   16ubBh2OqK_dVFdRQf0rWw_49WMq2KxZp   \n",
       "213  1MPdpQtkQX7DSimBzgYYpSEm02ngODSQI   \n",
       "\n",
       "                                                                        title  \\\n",
       "46   ICT-2020--PIVIC-ZOOTECNIA--CSTR-UAMV:  CONSUMO, DIGESTIBILIDADE E COM...   \n",
       "213       ICT-2020--PIVIC-FÍSICA--CCT-UAF:  VIOLAÇÃO DA INVARIÂNCIA DE LOR...   \n",
       "\n",
       "                                                                                                                                                                                                    description  \\\n",
       "46   Videos para avaliação dos projetos de Iniciação Científica e Tecnológica, vigência 2019 - 2020, da Universidade Federal de Campina Grande. Provisoriamente armazenados nesta canal por problemas técnicos.   \n",
       "213  Videos para avaliação dos projetos de Iniciação Científica e Tecnológica, vigência 2019 - 2020, da Universidade Federal de Campina Grande. Provisoriamente armazenados nesta canal por problemas técnicos.   \n",
       "\n",
       "    category                               keywords  \n",
       "46        27  UFCG,PRPG,PIBIC,PIBITI,ZOOTECNIA,CSTR  \n",
       "213       27      UFCG,PRPG,PIBIC,PIBITI,FÍSICA,CCT  "
      ]
     },
     "execution_count": 29,
     "metadata": {},
     "output_type": "execute_result"
    }
   ],
   "source": [
    "videos_validos.head(2)"
   ]
  },
  {
   "cell_type": "code",
   "execution_count": 41,
   "metadata": {},
   "outputs": [
    {
     "data": {
      "text/plain": [
       "'./VIDEO/7882.mp4'"
      ]
     },
     "execution_count": 41,
     "metadata": {},
     "output_type": "execute_result"
    },
    {
     "data": {
      "text/plain": [
       "'7882'"
      ]
     },
     "execution_count": 41,
     "metadata": {},
     "output_type": "execute_result"
    },
    {
     "data": {
      "text/html": [
       "<div>\n",
       "<style scoped>\n",
       "    .dataframe tbody tr th:only-of-type {\n",
       "        vertical-align: middle;\n",
       "    }\n",
       "\n",
       "    .dataframe tbody tr th {\n",
       "        vertical-align: top;\n",
       "    }\n",
       "\n",
       "    .dataframe thead th {\n",
       "        text-align: right;\n",
       "    }\n",
       "</style>\n",
       "<table border=\"1\" class=\"dataframe\">\n",
       "  <thead>\n",
       "    <tr style=\"text-align: right;\">\n",
       "      <th></th>\n",
       "      <th>ID</th>\n",
       "      <th>TITULO</th>\n",
       "      <th>DOCENTE</th>\n",
       "      <th>CENTRO</th>\n",
       "      <th>UA</th>\n",
       "      <th>AREA</th>\n",
       "      <th>ALUNO</th>\n",
       "      <th>CPF_ALUNO</th>\n",
       "      <th>BOLSA</th>\n",
       "      <th>TIPO</th>\n",
       "      <th>CPF</th>\n",
       "      <th>TIMESTAMP</th>\n",
       "      <th>EMAIL</th>\n",
       "      <th>NOME</th>\n",
       "      <th>CPF_ORIENTADOR</th>\n",
       "      <th>LINK_VIDEO</th>\n",
       "      <th>title</th>\n",
       "      <th>description</th>\n",
       "      <th>category</th>\n",
       "      <th>keywords</th>\n",
       "    </tr>\n",
       "  </thead>\n",
       "  <tbody>\n",
       "    <tr>\n",
       "      <th>32</th>\n",
       "      <td>7882</td>\n",
       "      <td>DESENVOLVIMENTO DE MEMBRANAS DE NANOFIBRAS DE TIO2 COM NANOPARTÍCULAS DE AG PARA TRATAMENTO DE ÁGUAS CONTAMINADAS COM CORANTES: PARTE II - UTILIZAÇÃO DA TÉCNICA DE LIOFILIZAÇÃO</td>\n",
       "      <td>ROMUALDO RODRIGUES MENEZES</td>\n",
       "      <td>CCT</td>\n",
       "      <td>UAEMAT</td>\n",
       "      <td>ENGENHARIA DE MATERIAIS E METALÚRGICA</td>\n",
       "      <td>YTALO LUIZ OURIQUES RODRIGUES</td>\n",
       "      <td>10812943457</td>\n",
       "      <td>NaN</td>\n",
       "      <td>PIBITI</td>\n",
       "      <td>02664019457</td>\n",
       "      <td>2020-12-30 20:01:46+03:00</td>\n",
       "      <td>ytaloour@gmail.com</td>\n",
       "      <td>Ytalo Luiz Ouriques Rodrigues</td>\n",
       "      <td>02664019457</td>\n",
       "      <td>1002oE5LjlTc7HM8dRIcxVM2bflxqfb53</td>\n",
       "      <td>ICT-2020--PIBITI-ENGENHARIA DE MATERIAIS E METALÚRGICA--CCT-UAEMAT:  DESENVOLVIMENTO DE MEMBRANAS D...</td>\n",
       "      <td>Videos para avaliação dos projetos de Iniciação Científica e Tecnológica, vigência 2019 - 2020, da Universidade Federal de Campina Grande. Provisoriamente armazenados nesta canal por problemas técnicos.</td>\n",
       "      <td>27</td>\n",
       "      <td>UFCG,PRPG,PIBIC,PIBITI,ENGENHARIA DE MATERIAIS E METALÚRGICA,CCT</td>\n",
       "    </tr>\n",
       "  </tbody>\n",
       "</table>\n",
       "</div>"
      ],
      "text/plain": [
       "      ID  \\\n",
       "32  7882   \n",
       "\n",
       "                                                                                                                                                                              TITULO  \\\n",
       "32  DESENVOLVIMENTO DE MEMBRANAS DE NANOFIBRAS DE TIO2 COM NANOPARTÍCULAS DE AG PARA TRATAMENTO DE ÁGUAS CONTAMINADAS COM CORANTES: PARTE II - UTILIZAÇÃO DA TÉCNICA DE LIOFILIZAÇÃO   \n",
       "\n",
       "                       DOCENTE CENTRO      UA  \\\n",
       "32  ROMUALDO RODRIGUES MENEZES    CCT  UAEMAT   \n",
       "\n",
       "                                     AREA                          ALUNO  \\\n",
       "32  ENGENHARIA DE MATERIAIS E METALÚRGICA  YTALO LUIZ OURIQUES RODRIGUES   \n",
       "\n",
       "      CPF_ALUNO BOLSA    TIPO          CPF                 TIMESTAMP  \\\n",
       "32  10812943457   NaN  PIBITI  02664019457 2020-12-30 20:01:46+03:00   \n",
       "\n",
       "                 EMAIL                            NOME CPF_ORIENTADOR  \\\n",
       "32  ytaloour@gmail.com  Ytalo Luiz Ouriques Rodrigues     02664019457   \n",
       "\n",
       "                           LINK_VIDEO  \\\n",
       "32  1002oE5LjlTc7HM8dRIcxVM2bflxqfb53   \n",
       "\n",
       "                                                                                                     title  \\\n",
       "32  ICT-2020--PIBITI-ENGENHARIA DE MATERIAIS E METALÚRGICA--CCT-UAEMAT:  DESENVOLVIMENTO DE MEMBRANAS D...   \n",
       "\n",
       "                                                                                                                                                                                                   description  \\\n",
       "32  Videos para avaliação dos projetos de Iniciação Científica e Tecnológica, vigência 2019 - 2020, da Universidade Federal de Campina Grande. Provisoriamente armazenados nesta canal por problemas técnicos.   \n",
       "\n",
       "   category                                                          keywords  \n",
       "32       27  UFCG,PRPG,PIBIC,PIBITI,ENGENHARIA DE MATERIAIS E METALÚRGICA,CCT  "
      ]
     },
     "execution_count": 41,
     "metadata": {},
     "output_type": "execute_result"
    }
   ],
   "source": [
    "file = files[0]\n",
    "file\n",
    "ID = file.split('/')[-1].split('.')[0]\n",
    "ID\n",
    "dados = videos_validos[videos_validos['ID']==int(ID)]\n",
    "dados"
   ]
  },
  {
   "cell_type": "code",
   "execution_count": 49,
   "metadata": {},
   "outputs": [],
   "source": [
    "files = glob('./VIDEO/*.mp4')\n",
    "keys = []\n",
    "for file in files:\n",
    "    ID = file.split('/')[-1].split('.')[0]\n",
    "    dados = videos_validos[videos_validos['ID']==int(ID)]\n",
    "    params = Namespace(title=dados['title'].iloc[0],\n",
    "                        description=dados['description'].iloc[0],\n",
    "                        category=dados['category'].iloc[0],\n",
    "                        keywords=dados['keywords'].iloc[0],\n",
    "                        secret = 'args.secret'\n",
    "                        )"
   ]
  },
  {
   "cell_type": "code",
   "execution_count": 50,
   "metadata": {},
   "outputs": [],
   "source": [
    "import youtube\n",
    "body = youtube.dict_struc(params)"
   ]
  },
  {
   "cell_type": "code",
   "execution_count": 51,
   "metadata": {},
   "outputs": [
    {
     "data": {
      "text/plain": [
       "{'snippet': {'title': 'ICT-2020--PIBIC-ENGENHARIA DE MATERIAIS E METALÚRGICA--CCT-UAEMAT:  ESTUDO DAS PROPRIEDADES DE COM...',\n",
       "  'description': 'Videos para avaliação dos projetos de Iniciação Científica e Tecnológica, vigência 2019 - 2020, da Universidade Federal de Campina Grande. Provisoriamente armazenados nesta canal por problemas técnicos.',\n",
       "  'tags': ['UFCG',\n",
       "   'PRPG',\n",
       "   'PIBIC',\n",
       "   'PIBITI',\n",
       "   'ENGENHARIA DE MATERIAIS E METALÚRGICA',\n",
       "   'CCT'],\n",
       "  'categoryId': '27'},\n",
       " 'status': {'privacyStatus': 'public'}}"
      ]
     },
     "execution_count": 51,
     "metadata": {},
     "output_type": "execute_result"
    }
   ],
   "source": [
    "body"
   ]
  },
  {
   "cell_type": "code",
   "execution_count": 52,
   "metadata": {},
   "outputs": [
    {
     "data": {
      "text/plain": [
       "'snippet,status'"
      ]
     },
     "execution_count": 52,
     "metadata": {},
     "output_type": "execute_result"
    }
   ],
   "source": [
    "part=\",\".join(body.keys())\n",
    "part"
   ]
  },
  {
   "cell_type": "code",
   "execution_count": null,
   "metadata": {},
   "outputs": [],
   "source": []
  }
 ],
 "metadata": {
  "hide_input": false,
  "kernelspec": {
   "display_name": "vPRPG",
   "language": "python",
   "name": "vprpg"
  },
  "language_info": {
   "codemirror_mode": {
    "name": "ipython",
    "version": 3
   },
   "file_extension": ".py",
   "mimetype": "text/x-python",
   "name": "python",
   "nbconvert_exporter": "python",
   "pygments_lexer": "ipython3",
   "version": "3.8.3"
  },
  "widgets": {
   "application/vnd.jupyter.widget-state+json": {
    "state": {},
    "version_major": 2,
    "version_minor": 0
   }
  }
 },
 "nbformat": 4,
 "nbformat_minor": 4
}

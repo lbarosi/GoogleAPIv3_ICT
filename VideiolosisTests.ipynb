{
 "cells": [
  {
   "cell_type": "markdown",
   "metadata": {},
   "source": [
    "# Organização de Vídeos ICT 2019-2020"
   ]
  },
  {
   "cell_type": "markdown",
   "metadata": {},
   "source": [
    "## Inicialização"
   ]
  },
  {
   "cell_type": "code",
   "execution_count": 1,
   "metadata": {
    "ExecuteTime": {
     "end_time": "2021-01-03T21:45:43.872629Z",
     "start_time": "2021-01-03T21:45:43.859170Z"
    }
   },
   "outputs": [],
   "source": [
    "# Incluindo diretório scripts no caminho\n",
    "from glob import glob\n",
    "import sys\n",
    "import os\n",
    "sys.path.insert(0, './DATA/')"
   ]
  },
  {
   "cell_type": "code",
   "execution_count": 2,
   "metadata": {
    "ExecuteTime": {
     "end_time": "2021-01-03T21:45:44.036790Z",
     "start_time": "2021-01-03T21:45:44.034015Z"
    }
   },
   "outputs": [],
   "source": [
    "# show result from all calculations of the cell\n",
    "from IPython.core.interactiveshell import InteractiveShell\n",
    "InteractiveShell.ast_node_interactivity = \"all\""
   ]
  },
  {
   "cell_type": "code",
   "execution_count": 3,
   "metadata": {
    "ExecuteTime": {
     "end_time": "2021-01-03T21:45:45.109591Z",
     "start_time": "2021-01-03T21:45:44.193004Z"
    }
   },
   "outputs": [],
   "source": [
    "# pacotes básicos\n",
    "import numpy as np\n",
    "from scipy import stats\n",
    "import matplotlib.pyplot as plt\n",
    "import pandas as pd\n",
    "pd.set_option('max_colwidth',250)\n",
    "import unidecode\n",
    "import re\n",
    "import argparse\n",
    "from argparse import Namespace"
   ]
  },
  {
   "cell_type": "markdown",
   "metadata": {},
   "source": [
    "## Testando Integridade dos dados"
   ]
  },
  {
   "cell_type": "code",
   "execution_count": 4,
   "metadata": {},
   "outputs": [],
   "source": [
    "import videolist as vd"
   ]
  },
  {
   "cell_type": "code",
   "execution_count": 21,
   "metadata": {},
   "outputs": [],
   "source": [
    "tipo = Namespace(type='UA')"
   ]
  },
  {
   "cell_type": "code",
   "execution_count": 32,
   "metadata": {},
   "outputs": [],
   "source": [
    "df1 = vd.do_list()\n",
    "df_sel = vd.do_subset(df1,'UA')"
   ]
  },
  {
   "cell_type": "code",
   "execution_count": 35,
   "metadata": {},
   "outputs": [
    {
     "data": {
      "text/plain": [
       "Index(['ID', 'TITULO', 'DOCENTE', 'CENTRO', 'UA', 'AREA', 'ALUNO', 'CPF_ALUNO',\n",
       "       'BOLSA', 'TIPO', 'CPF', 'TIMESTAMP', 'EMAIL', 'NOME', 'CPF_ORIENTADOR',\n",
       "       'LINK_VIDEO', 'title', 'description', 'category', 'keywords'],\n",
       "      dtype='object')"
      ]
     },
     "execution_count": 35,
     "metadata": {},
     "output_type": "execute_result"
    }
   ],
   "source": [
    "df1.columns"
   ]
  },
  {
   "cell_type": "code",
   "execution_count": 42,
   "metadata": {},
   "outputs": [
    {
     "data": {
      "text/html": [
       "<div>\n",
       "<style scoped>\n",
       "    .dataframe tbody tr th:only-of-type {\n",
       "        vertical-align: middle;\n",
       "    }\n",
       "\n",
       "    .dataframe tbody tr th {\n",
       "        vertical-align: top;\n",
       "    }\n",
       "\n",
       "    .dataframe thead th {\n",
       "        text-align: right;\n",
       "    }\n",
       "</style>\n",
       "<table border=\"1\" class=\"dataframe\">\n",
       "  <thead>\n",
       "    <tr style=\"text-align: right;\">\n",
       "      <th></th>\n",
       "      <th>ID</th>\n",
       "      <th>LINK_VIDEO</th>\n",
       "    </tr>\n",
       "  </thead>\n",
       "  <tbody>\n",
       "    <tr>\n",
       "      <th>46</th>\n",
       "      <td>7733</td>\n",
       "      <td>16ubBh2OqK_dVFdRQf0rWw_49WMq2KxZp</td>\n",
       "    </tr>\n",
       "    <tr>\n",
       "      <th>127</th>\n",
       "      <td>7875</td>\n",
       "      <td>1BxcGAn9rIS_lQ18Uia6d-MRm95b03ByH</td>\n",
       "    </tr>\n",
       "    <tr>\n",
       "      <th>74</th>\n",
       "      <td>7708</td>\n",
       "      <td>1xvO4VaZXMHDHgFtg4JqR2NAKLMJYCd4_</td>\n",
       "    </tr>\n",
       "    <tr>\n",
       "      <th>88</th>\n",
       "      <td>7776</td>\n",
       "      <td>1u97RXkJ32UczZvQpwPVp3smAR4pWHry6</td>\n",
       "    </tr>\n",
       "    <tr>\n",
       "      <th>84</th>\n",
       "      <td>7840</td>\n",
       "      <td>1YvdHk21wFDWyhdzHWfPQq8A0RioC0Ze7</td>\n",
       "    </tr>\n",
       "    <tr>\n",
       "      <th>...</th>\n",
       "      <td>...</td>\n",
       "      <td>...</td>\n",
       "    </tr>\n",
       "    <tr>\n",
       "      <th>198</th>\n",
       "      <td>8119</td>\n",
       "      <td>1WqTc5_xa1JleHzs4UeLMpHTV6mk1ktAb</td>\n",
       "    </tr>\n",
       "    <tr>\n",
       "      <th>49</th>\n",
       "      <td>7635</td>\n",
       "      <td>1_Lpk8ryDMh6Ux2h3PPBJXt2qin0bmyBO</td>\n",
       "    </tr>\n",
       "    <tr>\n",
       "      <th>75</th>\n",
       "      <td>7713</td>\n",
       "      <td>19H1fxE5hMdqOxOhsAe9DBGIXYKSmduKF</td>\n",
       "    </tr>\n",
       "    <tr>\n",
       "      <th>6</th>\n",
       "      <td>7488</td>\n",
       "      <td>1XQnDbSHAgT_gA0iSoHli5o7oslqWBK9E</td>\n",
       "    </tr>\n",
       "    <tr>\n",
       "      <th>29</th>\n",
       "      <td>7578</td>\n",
       "      <td>1ryu7uhqmHpMb9yEENAv8ujStVksDwnhQ</td>\n",
       "    </tr>\n",
       "  </tbody>\n",
       "</table>\n",
       "<p>201 rows × 2 columns</p>\n",
       "</div>"
      ],
      "text/plain": [
       "       ID                         LINK_VIDEO\n",
       "46   7733  16ubBh2OqK_dVFdRQf0rWw_49WMq2KxZp\n",
       "127  7875  1BxcGAn9rIS_lQ18Uia6d-MRm95b03ByH\n",
       "74   7708  1xvO4VaZXMHDHgFtg4JqR2NAKLMJYCd4_\n",
       "88   7776  1u97RXkJ32UczZvQpwPVp3smAR4pWHry6\n",
       "84   7840  1YvdHk21wFDWyhdzHWfPQq8A0RioC0Ze7\n",
       "..    ...                                ...\n",
       "198  8119  1WqTc5_xa1JleHzs4UeLMpHTV6mk1ktAb\n",
       "49   7635  1_Lpk8ryDMh6Ux2h3PPBJXt2qin0bmyBO\n",
       "75   7713  19H1fxE5hMdqOxOhsAe9DBGIXYKSmduKF\n",
       "6    7488  1XQnDbSHAgT_gA0iSoHli5o7oslqWBK9E\n",
       "29   7578  1ryu7uhqmHpMb9yEENAv8ujStVksDwnhQ\n",
       "\n",
       "[201 rows x 2 columns]"
      ]
     },
     "execution_count": 42,
     "metadata": {},
     "output_type": "execute_result"
    }
   ],
   "source": [
    "dfS = []\n",
    "for item in df_sel['CRITERIO'].unique():\n",
    "    df1 = df_sel[df_sel['CRITERIO']==item].iloc[0,2]\n",
    "    dfS.append(df1[['ID','LINK_VIDEO']])\n",
    "teste = pd.concat(dfS)\n",
    "teste"
   ]
  },
  {
   "cell_type": "code",
   "execution_count": 44,
   "metadata": {},
   "outputs": [
    {
     "data": {
      "text/html": [
       "<div>\n",
       "<style scoped>\n",
       "    .dataframe tbody tr th:only-of-type {\n",
       "        vertical-align: middle;\n",
       "    }\n",
       "\n",
       "    .dataframe tbody tr th {\n",
       "        vertical-align: top;\n",
       "    }\n",
       "\n",
       "    .dataframe thead th {\n",
       "        text-align: right;\n",
       "    }\n",
       "</style>\n",
       "<table border=\"1\" class=\"dataframe\">\n",
       "  <thead>\n",
       "    <tr style=\"text-align: right;\">\n",
       "      <th></th>\n",
       "      <th>ID</th>\n",
       "      <th>LINK_VIDEO</th>\n",
       "    </tr>\n",
       "  </thead>\n",
       "  <tbody>\n",
       "    <tr>\n",
       "      <th>count</th>\n",
       "      <td>201</td>\n",
       "      <td>201</td>\n",
       "    </tr>\n",
       "    <tr>\n",
       "      <th>unique</th>\n",
       "      <td>201</td>\n",
       "      <td>201</td>\n",
       "    </tr>\n",
       "    <tr>\n",
       "      <th>top</th>\n",
       "      <td>8193</td>\n",
       "      <td>18l2zX66Z3m5jX878zcisiyAAJyAizV_a</td>\n",
       "    </tr>\n",
       "    <tr>\n",
       "      <th>freq</th>\n",
       "      <td>1</td>\n",
       "      <td>1</td>\n",
       "    </tr>\n",
       "  </tbody>\n",
       "</table>\n",
       "</div>"
      ],
      "text/plain": [
       "          ID                         LINK_VIDEO\n",
       "count    201                                201\n",
       "unique   201                                201\n",
       "top     8193  18l2zX66Z3m5jX878zcisiyAAJyAizV_a\n",
       "freq       1                                  1"
      ]
     },
     "execution_count": 44,
     "metadata": {},
     "output_type": "execute_result"
    }
   ],
   "source": [
    "teste['ID']=teste['ID'].astype(str)\n",
    "teste.describe()"
   ]
  },
  {
   "cell_type": "code",
   "execution_count": null,
   "metadata": {},
   "outputs": [],
   "source": []
  }
 ],
 "metadata": {
  "hide_input": false,
  "kernelspec": {
   "display_name": "vPRPG",
   "language": "python",
   "name": "vprpg"
  },
  "language_info": {
   "codemirror_mode": {
    "name": "ipython",
    "version": 3
   },
   "file_extension": ".py",
   "mimetype": "text/x-python",
   "name": "python",
   "nbconvert_exporter": "python",
   "pygments_lexer": "ipython3",
   "version": "3.8.3"
  },
  "widgets": {
   "application/vnd.jupyter.widget-state+json": {
    "state": {},
    "version_major": 2,
    "version_minor": 0
   }
  }
 },
 "nbformat": 4,
 "nbformat_minor": 4
}

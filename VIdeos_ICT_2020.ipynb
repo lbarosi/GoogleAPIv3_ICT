{
 "cells": [
  {
   "cell_type": "markdown",
   "metadata": {},
   "source": [
    "# Organização de Vídeos ICT 2019-2020"
   ]
  },
  {
   "cell_type": "markdown",
   "metadata": {},
   "source": [
    "## Inicialização"
   ]
  },
  {
   "cell_type": "code",
   "execution_count": 55,
   "metadata": {
    "ExecuteTime": {
     "end_time": "2021-01-03T21:45:43.872629Z",
     "start_time": "2021-01-03T21:45:43.859170Z"
    }
   },
   "outputs": [],
   "source": [
    "# Incluindo diretório scripts no caminho\n",
    "from glob import glob\n",
    "import sys\n",
    "import os\n",
    "sys.path.insert(0, './DATA/')"
   ]
  },
  {
   "cell_type": "code",
   "execution_count": 56,
   "metadata": {
    "ExecuteTime": {
     "end_time": "2021-01-03T21:45:44.036790Z",
     "start_time": "2021-01-03T21:45:44.034015Z"
    }
   },
   "outputs": [],
   "source": [
    "# show result from all calculations of the cell\n",
    "from IPython.core.interactiveshell import InteractiveShell\n",
    "InteractiveShell.ast_node_interactivity = \"all\""
   ]
  },
  {
   "cell_type": "code",
   "execution_count": 57,
   "metadata": {
    "ExecuteTime": {
     "end_time": "2021-01-03T21:45:45.109591Z",
     "start_time": "2021-01-03T21:45:44.193004Z"
    }
   },
   "outputs": [],
   "source": [
    "# pacotes básicos\n",
    "import numpy as np\n",
    "from scipy import stats\n",
    "import matplotlib.pyplot as plt\n",
    "import pandas as pd\n",
    "pd.set_option('max_colwidth',250)\n",
    "import unidecode\n",
    "import re"
   ]
  },
  {
   "cell_type": "markdown",
   "metadata": {},
   "source": [
    "## Carregando dados"
   ]
  },
  {
   "cell_type": "code",
   "execution_count": 58,
   "metadata": {
    "ExecuteTime": {
     "end_time": "2021-01-03T21:45:45.122207Z",
     "start_time": "2021-01-03T21:45:45.111761Z"
    }
   },
   "outputs": [],
   "source": [
    "colunas = ['ID', 'Título do Projeto', 'Docente', 'Centro', 'Unidade', \n",
    "           'Área Conhecimento', 'Aluno', 'CPF Aluno', 'Cota Bolsa','TIPO']"
   ]
  },
  {
   "cell_type": "code",
   "execution_count": 59,
   "metadata": {
    "ExecuteTime": {
     "end_time": "2021-01-03T21:45:45.830365Z",
     "start_time": "2021-01-03T21:45:45.386620Z"
    }
   },
   "outputs": [],
   "source": [
    "servidores = pd.read_excel('./DATA/UFCG_Servidores_Ativos.xls', converters={'CPF':str})\n",
    "servidores = servidores[['CPF','Nome']]\n",
    "\n",
    "\n",
    "formularios = pd.read_csv('./DATA/Formulário_ICT_VIDEOS.csv', converters={'CPF_ALUNO':str, 'CPF_ORIENTADOR':str})\n",
    "formularios = formularios.dropna(axis=1, how='any')\n",
    "formularios['CPF_ORIENTADOR'] = formularios['CPF_ORIENTADOR'].apply(\n",
    "    lambda row: re.sub(r\"\\D\", \"\", row))\n",
    "formularios['CPF_ALUNO'] = formularios['CPF_ALUNO'].apply(\n",
    "    lambda row: re.sub(r\"\\D\", \"\", row))\n",
    "formularios['TIMESTAMP'] = pd.to_datetime(formularios['TIMESTAMP'])\n",
    "\n",
    "PIBIC = pd.read_excel('./DATA/PIBIC-2019.xls', converters={'CPF Aluno':str})\n",
    "PIVIC = pd.read_excel('./DATA/PIVIC-2019.xls', converters={'CPF Aluno':str})\n",
    "PIVIC_1 = pd.read_excel('./DATA/PIVIC-2019-1.xls', converters={'CPF Aluno':str})\n",
    "PIBITI = pd.read_excel('./DATA/PIBITI-2019.xls', converters={'CPF Aluno':str})\n",
    "PIVITI = pd.read_excel('./DATA/PIVITI-2019.xls', converters={'CPF Aluno':str})\n",
    "\n",
    "PIBIC['TIPO'] = 'PIBIC' \n",
    "PIVIC['TIPO'] = 'PIVIC' \n",
    "PIVIC_1['TIPO'] = 'PIVIC' \n",
    "PIBITI['TIPO'] = 'PIBITI' \n",
    "PIVITI['TIPO'] = 'PIVITI' \n",
    "\n",
    "projetos = pd.concat([PIBIC,PIVIC,PIVIC_1, PIBITI, PIVITI])\n",
    "projetos = projetos[colunas]\n",
    "projetos = projetos.rename(columns={'Título do Projeto':'TITULO',\n",
    "                                    'Docente':'DOCENTE',\n",
    "                                    'Centro':'CENTRO',\n",
    "                                    'Unidade':'UA',\n",
    "                                    'Área Conhecimento':'AREA',\n",
    "                                    'Aluno':'ALUNO',\n",
    "                                    'CPF Aluno':'CPF_ALUNO',\n",
    "                                    'Cota Bolsa':'BOLSA'})\n",
    "projetos.CPF_ALUNO = projetos.CPF_ALUNO.astype(str)\n",
    "projetos['DOCENTE'] = projetos['DOCENTE'].apply(\n",
    "    lambda row: unidecode.unidecode(row))\n",
    "\n",
    "dados_projetos = pd.merge(\n",
    "    left=projetos, right=servidores,\n",
    "    left_on='DOCENTE', right_on='Nome').drop('Nome',1)\n",
    "\n",
    "dados_videos = pd.merge(\n",
    "    left=dados_projetos, right=formularios,\n",
    "    left_on='CPF_ALUNO', right_on='CPF_ALUNO')\n",
    "\n",
    "videos = dados_videos[\n",
    "    dados_videos['CPF_ORIENTADOR'] == dados_videos['CPF']\n",
    "]\n",
    "#Eliminando Duplicatas e ficando com a versão mais recente.\n",
    "videos_validos = videos.sort_values('TIMESTAMP').drop_duplicates('CPF_ALUNO',keep='last')\n",
    "\n",
    "#videos_validos['LINK_VIDEO']=videos_validos.apply(lambda row: row['LINK_VIDEO'].split['='][-1])\n",
    "\n",
    "\n",
    "videos_validos['title'] = videos_validos.apply(lambda row: \n",
    "                     'ICT-2020-' + row['AREA'] + '-' + '-' + row['CENTRO'] +\n",
    "                     '-' + row['UA'] + ':  ' + \n",
    "                     str(row['TITULO'])[0 : min(len(str(row['TITULO'])),30)] + '...',\n",
    "                     axis = 1\n",
    "                    )\n",
    "\n",
    "videos_validos['description'] = 'Videos para avaliação dos projetos de Iniciação Científica e Tecnológica, vigência 2019 - 2020, da Universidade Federal de Campina Grande. Provisoriamente armazenados nesta canal por problemas técnicos.'\n",
    "\n",
    "videos_validos['category'] = '27'\n",
    "\n",
    "videos_validos['keywords'] = videos_validos.apply(lambda row: \n",
    "                     'UFCG,PRPG,PIBIC,PIBITI,' + row['AREA'] +',' + row['CENTRO'],\n",
    "                     axis = 1\n",
    "                    )\n",
    "\n",
    "videos_validos['categorias'] = videos_validos.apply(lambda row: row['CENTRO']+'-'+row['UA'], axis = 1)"
   ]
  },
  {
   "cell_type": "code",
   "execution_count": 60,
   "metadata": {},
   "outputs": [
    {
     "data": {
      "text/plain": [
       "'UAMV'"
      ]
     },
     "execution_count": 60,
     "metadata": {},
     "output_type": "execute_result"
    }
   ],
   "source": [
    "videos_validos.head(1)['UA'].iloc[0]"
   ]
  },
  {
   "cell_type": "markdown",
   "metadata": {},
   "source": [
    "## Criando Listas"
   ]
  },
  {
   "cell_type": "code",
   "execution_count": 61,
   "metadata": {},
   "outputs": [],
   "source": [
    "listas = ['CENTRO','UA','AREA']\n",
    "categorias = [videos_validos[el].unique().tolist() for el in listas]\n",
    "playlists = [ videos_validos[ videos_validos[el] == categ ]['ID'] \n",
    " for el in listas for categ in categorias[listas.index(el)] ]\n"
   ]
  },
  {
   "cell_type": "code",
   "execution_count": 62,
   "metadata": {},
   "outputs": [],
   "source": [
    "column_names = ['TIPO', 'CRITERIO', 'DADOS']\n",
    "df = pd.DataFrame(columns = column_names)\n",
    "POS = 0\n",
    "for item in listas:\n",
    "    for item2 in categorias[listas.index(item)]:\n",
    "        df.loc[len(df)] = [item, item2, videos_validos[videos_validos.index.isin(playlists[POS].index)]]\n",
    "        POS += 1        "
   ]
  },
  {
   "cell_type": "markdown",
   "metadata": {},
   "source": [
    "## Teste"
   ]
  },
  {
   "cell_type": "code",
   "execution_count": 75,
   "metadata": {},
   "outputs": [
    {
     "data": {
      "text/plain": [
       "['https://drive.google.com/u/0/open?usp=forms_web&id=1MPdpQtkQX7DSimBzgYYpSEm02ngODSQI',\n",
       " 'https://drive.google.com/u/0/open?usp=forms_web&id=1Ehg__XJTKFx3MP9rnYadSvfo05qz-OtF',\n",
       " 'https://drive.google.com/u/0/open?usp=forms_web&id=1H9mUF4I0NId4wyEefxXTMhUD3l9yRHdk']"
      ]
     },
     "execution_count": 75,
     "metadata": {},
     "output_type": "execute_result"
    }
   ],
   "source": [
    "df1 = df[df['TIPO']=='UA']\n",
    "df1[df1['CRITERIO']=='UAF'].iloc[0,2]['LINK_VIDEO'].to_list()"
   ]
  },
  {
   "cell_type": "code",
   "execution_count": 66,
   "metadata": {},
   "outputs": [
    {
     "data": {
      "text/plain": [
       "Index(['ID', 'TITULO', 'DOCENTE', 'CENTRO', 'UA', 'AREA', 'ALUNO', 'CPF_ALUNO',\n",
       "       'BOLSA', 'TIPO', 'CPF', 'TIMESTAMP', 'EMAIL', 'NOME', 'CPF_ORIENTADOR',\n",
       "       'LINK_VIDEO', 'title', 'description', 'category', 'keywords'],\n",
       "      dtype='object')"
      ]
     },
     "execution_count": 66,
     "metadata": {},
     "output_type": "execute_result"
    }
   ],
   "source": [
    "uamv.columns"
   ]
  },
  {
   "cell_type": "code",
   "execution_count": 67,
   "metadata": {},
   "outputs": [],
   "source": [
    "uamv = uamv[uamv['ID']==7733]"
   ]
  },
  {
   "cell_type": "code",
   "execution_count": 75,
   "metadata": {},
   "outputs": [
    {
     "data": {
      "text/plain": [
       "'16ubBh2OqK_dVFdRQf0rWw_49WMq2KxZp'"
      ]
     },
     "execution_count": 75,
     "metadata": {},
     "output_type": "execute_result"
    }
   ],
   "source": [
    "uamv.values[0,-5].split('=')[-1]"
   ]
  },
  {
   "cell_type": "code",
   "execution_count": 25,
   "metadata": {},
   "outputs": [
    {
     "ename": "NameError",
     "evalue": "name 'b' is not defined",
     "output_type": "error",
     "traceback": [
      "\u001b[0;31m---------------------------------------------------------------------------\u001b[0m",
      "\u001b[0;31mNameError\u001b[0m                                 Traceback (most recent call last)",
      "\u001b[0;32m<ipython-input-25-2953cf919041>\u001b[0m in \u001b[0;36m<module>\u001b[0;34m\u001b[0m\n\u001b[1;32m      1\u001b[0m \u001b[0ma\u001b[0m \u001b[0;34m=\u001b[0m \u001b[0;36m1\u001b[0m\u001b[0;34m\u001b[0m\u001b[0;34m\u001b[0m\u001b[0m\n\u001b[0;32m----> 2\u001b[0;31m \u001b[0ma\u001b[0m \u001b[0;34m=\u001b[0m \u001b[0mb\u001b[0m\u001b[0;34m\u001b[0m\u001b[0;34m\u001b[0m\u001b[0m\n\u001b[0m",
      "\u001b[0;31mNameError\u001b[0m: name 'b' is not defined"
     ]
    }
   ],
   "source": [
    "a = 1\n",
    "a = b"
   ]
  },
  {
   "cell_type": "code",
   "execution_count": null,
   "metadata": {},
   "outputs": [],
   "source": []
  }
 ],
 "metadata": {
  "hide_input": false,
  "kernelspec": {
   "display_name": "vPRPG",
   "language": "python",
   "name": "vprpg"
  },
  "language_info": {
   "codemirror_mode": {
    "name": "ipython",
    "version": 3
   },
   "file_extension": ".py",
   "mimetype": "text/x-python",
   "name": "python",
   "nbconvert_exporter": "python",
   "pygments_lexer": "ipython3",
   "version": "3.8.3"
  },
  "widgets": {
   "application/vnd.jupyter.widget-state+json": {
    "state": {},
    "version_major": 2,
    "version_minor": 0
   }
  }
 },
 "nbformat": 4,
 "nbformat_minor": 4
}
